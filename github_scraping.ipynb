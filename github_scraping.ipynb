{
 "cells": [
  {
   "cell_type": "code",
   "execution_count": 3,
   "id": "ef67b12a",
   "metadata": {},
   "outputs": [
    {
     "name": "stdout",
     "output_type": "stream",
     "text": [
      "Reached the desired number of repositories\n",
      "Reached the desired number of repositories\n",
      "Finished fetching repositories\n"
     ]
    }
   ],
   "source": [
    "import requests\n",
    "import time\n",
    "from datetime import datetime, timedelta\n",
    "import calendar\n",
    "\n",
    "access_token = '##################################\"'\n",
    "base_url = 'https://api.github.com/search/repositories'\n",
    "results_per_page = 100\n",
    "\n",
    "# Define the date range for the desired months\n",
    "start_year = 2020\n",
    "start_month = 1\n",
    "end_year = 2020\n",
    "end_month = 2\n",
    "\n",
    "repositories = []\n",
    "\n",
    "# Iterate over the specified months\n",
    "for year in range(start_year, end_year + 1):\n",
    "    for month in range(start_month, end_month + 1):\n",
    "        # Get the number of days in the current month\n",
    "        num_days = calendar.monthrange(year, month)[1]\n",
    "\n",
    "        # Iterate over each day in the current month\n",
    "        for day in range(1, num_days + 1):\n",
    "            # Format the date in YYYY-MM-DD format\n",
    "            date_str = f'{year}-{month:02d}-{day:02d}'\n",
    "\n",
    "            # Create the API URL with the date and other parameters\n",
    "            query = f'created:{date_str}'\n",
    "            url = f'{base_url}?q={query}&sort=stars&order=desc&per_page={results_per_page}'\n",
    "\n",
    "            # Make the API request\n",
    "            response = requests.get(url, headers={'Authorization': f'Bearer {access_token}'})\n",
    "\n",
    "            # Check the response status code\n",
    "            if response.status_code == 200:\n",
    "                data = response.json()\n",
    "                items = data.get('items', [])\n",
    "\n",
    "                # Extract repositories from the response\n",
    "                for item in items:\n",
    "                    repositories.append({\n",
    "                        'name': item['name'],\n",
    "                        'full_name': item['full_name'],\n",
    "                        'url': item['html_url'],\n",
    "                        'description': item['description'],\n",
    "                        'stars': item['stargazers_count'],\n",
    "                        'created_at': item['created_at'],\n",
    "                        'language': item.get('language', ''),\n",
    "                        'forks': item['forks'],\n",
    "                        'watchers': item['watchers'],\n",
    "                    })\n",
    "\n",
    "                # Introduce a delay between requests to respect rate limits\n",
    "                time.sleep(15)  # Adjust the sleep duration as needed\n",
    "            else:\n",
    "                # Request failed\n",
    "                print(f'Request failed with status code: {response.status_code}')\n",
    "                break\n",
    "\n",
    "            # Check if the desired number of repositories has been reached\n",
    "            if len(repositories) >= 100:\n",
    "                print('Reached the desired number of repositories')\n",
    "                break\n",
    "\n",
    "# Print the fetched repositories\n",
    "#for repo in repositories:\n",
    " #   print(repo)\n",
    "\n",
    "print('Finished fetching repositories')\n"
   ]
  },
  {
   "cell_type": "code",
   "execution_count": 4,
   "id": "ee4f380b",
   "metadata": {},
   "outputs": [
    {
     "data": {
      "text/plain": [
       "200"
      ]
     },
     "execution_count": 4,
     "metadata": {},
     "output_type": "execute_result"
    }
   ],
   "source": [
    "len(repositories)"
   ]
  },
  {
   "cell_type": "code",
   "execution_count": null,
   "id": "e931e8ef",
   "metadata": {},
   "outputs": [],
   "source": [
    "import csv\n",
    "\n",
    "csv_filename = 'repositories.csv'\n",
    "fieldnames = ['name', 'full_name', 'url', 'description', 'stars', 'created_at', 'language', 'forks', 'watchers','open_issues']\n",
    "\n",
    "# Specify the directory path where you want to save the CSV file\n",
    "directory_path = 'C:\\\\Users\\\\LENOVO\\\\Desktop'\n",
    "# Replace with your desired directory path\n",
    "\n",
    "# Save the fetched repositories to a CSV file\n",
    "csv_filename = directory_path + '/' + 'repositories.csv'\n",
    "\n",
    "with open(csv_filename, 'w', newline='', encoding='utf-8') as csvfile:\n",
    "    writer = csv.DictWriter(csvfile, fieldnames=fieldnames)\n",
    "    writer.writeheader()\n",
    "    writer.writerows(repositories)\n",
    "\n",
    "print('Finished fetching repositories. Saved to repositories.csv')"
   ]
  }
 ],
 "metadata": {
  "kernelspec": {
   "display_name": "Python 3 (ipykernel)",
   "language": "python",
   "name": "python3"
  },
  "language_info": {
   "codemirror_mode": {
    "name": "ipython",
    "version": 3
   },
   "file_extension": ".py",
   "mimetype": "text/x-python",
   "name": "python",
   "nbconvert_exporter": "python",
   "pygments_lexer": "ipython3",
   "version": "3.11.3"
  }
 },
 "nbformat": 4,
 "nbformat_minor": 5
}
