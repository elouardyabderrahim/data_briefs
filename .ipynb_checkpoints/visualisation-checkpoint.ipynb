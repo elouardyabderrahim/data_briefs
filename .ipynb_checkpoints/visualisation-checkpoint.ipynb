{
 "cells": [
  {
   "cell_type": "markdown",
   "id": "d85211b1",
   "metadata": {},
   "source": [
    "#### Quelle(s) relation(s) entre les colonnes ?\n",
    "#### Quelle(s) distribution(s) des variables ?\n",
    "#### Quels sont les langages les plus utilisés ?\n",
    "#### Quels sont les projets tendances ?\n",
    "#### Quels sont les sujets tendances ?\n",
    "#### Quels sont les langages tendances ?\n",
    "#### Quels sont les sujets les traités ?\n",
    "#### Quels sont les sujets intéressants ?\n",
    "#### Les projets tendance sont-ils des projets intéressants ?"
   ]
  },
  {
   "cell_type": "markdown",
   "id": "5053d992",
   "metadata": {},
   "source": [
    "Les taches a realise:\n",
    " <ol>\n",
    "<li>Rependre au questions posees</li>\n",
    "<li>regler le problem des contributors</li>\n",
    "<li>troixieme</li>\n",
    "<li>quatreieme</li>\n",
    "</ol>"
   ]
  },
  {
   "cell_type": "code",
   "execution_count": null,
   "id": "3e86de8f",
   "metadata": {},
   "outputs": [],
   "source": []
  },
  {
   "cell_type": "code",
   "execution_count": null,
   "id": "13d999a3",
   "metadata": {},
   "outputs": [],
   "source": []
  },
  {
   "cell_type": "code",
   "execution_count": null,
   "id": "b084eb95",
   "metadata": {},
   "outputs": [],
   "source": []
  }
 ],
 "metadata": {
  "kernelspec": {
   "display_name": "Python 3 (ipykernel)",
   "language": "python",
   "name": "python3"
  },
  "language_info": {
   "codemirror_mode": {
    "name": "ipython",
    "version": 3
   },
   "file_extension": ".py",
   "mimetype": "text/x-python",
   "name": "python",
   "nbconvert_exporter": "python",
   "pygments_lexer": "ipython3",
   "version": "3.11.3"
  }
 },
 "nbformat": 4,
 "nbformat_minor": 5
}
